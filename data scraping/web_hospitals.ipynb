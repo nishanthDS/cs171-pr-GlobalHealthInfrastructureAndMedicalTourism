{
 "metadata": {
  "name": "",
  "signature": "sha256:748323203754e8f30235e181dc998ba1716df1e650985caccc223adc51183c5b"
 },
 "nbformat": 3,
 "nbformat_minor": 0,
 "worksheets": [
  {
   "cells": [
    {
     "cell_type": "code",
     "collapsed": false,
     "input": [
      "from bs4 import BeautifulSoup\n",
      "import requests\n",
      "import csv"
     ],
     "language": "python",
     "metadata": {},
     "outputs": [],
     "prompt_number": 16
    },
    {
     "cell_type": "code",
     "collapsed": false,
     "input": [
      "home_page = requests.get('http://hospitals.webometrics.info/en/world')\n",
      "home_soup = BeautifulSoup(home_page.content)\n",
      "\n",
      "\n",
      "\n",
      "home_menu = soup.find_all(\"div\", {\"class\": \"sitemenu\"})\n",
      "links = home_menu[0].contents[1].find_all(\"a\")\n",
      "\n",
      "data = []\n",
      "\n",
      "def page_table(name, page):\n",
      "    name_table = requests.get(page)\n",
      "    soup_table = BeautifulSoup(name_table.content)\n",
      "    country_table = soup_table.find_all(\"table\", {\"class\": \"sticky-enabled\"})[0].find_all(\"tbody\")\n",
      "    country_tr = country_table[0].find_all(\"tr\")\n",
      "    for row in country_tr:\n",
      "        cols = row.find_all('td')\n",
      "        cols = [ele.text.strip().encode(\"utf8\") for ele in cols]\n",
      "        #print cols\n",
      "        cols.append(name)\n",
      "        if len(cols) > 2:\n",
      "            data.append(cols)\n",
      "\n",
      "\n",
      "def country_links(cname, cpage):\n",
      "    page_table(cname, cpage)\n",
      "    country_page = requests.get(cpage)\n",
      "    spage = BeautifulSoup(country_page.content)\n",
      "    next_tag = spage.find_all(\"li\", {\"class\": \"pager-next\"})\n",
      "    if len(next_tag) == 1:\n",
      "        next_page = \"http://hospitals.webometrics.info\"+next_tag[0].find_all(\"a\")[0].get(\"href\")\n",
      "        print next_page\n",
      "        country_links(cname, next_page)\n",
      "        \n",
      "    \n",
      "lock = \"open\"\n",
      "for link in links:\n",
      "    page_no=500\n",
      "    if (link.get(\"href\").count(\"/\") == 3):\n",
      "        country = link.text\n",
      "        country_page = \"http://hospitals.webometrics.info\"+link.get(\"href\")\n",
      "        \n",
      "        if country == \"Ranking by Areas\":\n",
      "            break\n",
      "        #if country == \"American Samoa\":\n",
      "            #lock = \"open\"\n",
      "        \n",
      "        if (lock == \"open\"):\n",
      "            print country\n",
      "            print country_page\n",
      "            country_links(country, country_page)\n",
      "        \n",
      "print data\n",
      "\n",
      "with open('world hospitals.csv', 'w') as fp:\n",
      "    a = csv.writer(fp, delimiter=',')\n",
      "    a.writerows(data)\n"
     ],
     "language": "python",
     "metadata": {},
     "outputs": [
      {
       "output_type": "stream",
       "stream": "stdout",
       "text": [
        "Bermuda\n",
        "http://hospitals.webometrics.info/en/North_america/Bermuda\n",
        "Canada"
       ]
      },
      {
       "output_type": "stream",
       "stream": "stdout",
       "text": [
        "\n",
        "http://hospitals.webometrics.info/en/North_america/Canada\n",
        "http://hospitals.webometrics.info/en/North_america/Canada?page=1"
       ]
      },
      {
       "output_type": "stream",
       "stream": "stdout",
       "text": [
        "\n",
        "http://hospitals.webometrics.info/en/North_america/Canada?page=2"
       ]
      },
      {
       "output_type": "stream",
       "stream": "stdout",
       "text": [
        "\n",
        "http://hospitals.webometrics.info/en/north_america/canada?page=3"
       ]
      },
      {
       "output_type": "stream",
       "stream": "stdout",
       "text": [
        "\n",
        "United States of America"
       ]
      },
      {
       "output_type": "stream",
       "stream": "stdout",
       "text": [
        "\n",
        "http://hospitals.webometrics.info/en/North_america/United%20States%20of%20America\n",
        "http://hospitals.webometrics.info/en/North_america/United%20States%20of%20America?page=1"
       ]
      },
      {
       "output_type": "stream",
       "stream": "stdout",
       "text": [
        "\n",
        "http://hospitals.webometrics.info/en/North_america/United%20States%20of%20America?page=2"
       ]
      },
      {
       "output_type": "stream",
       "stream": "stdout",
       "text": [
        "\n",
        "http://hospitals.webometrics.info/en/North_america/United%20States%20of%20America?page=3"
       ]
      },
      {
       "output_type": "stream",
       "stream": "stdout",
       "text": [
        "\n",
        "http://hospitals.webometrics.info/en/North_america/United%20States%20of%20America?page=4"
       ]
      },
      {
       "output_type": "stream",
       "stream": "stdout",
       "text": [
        "\n",
        "http://hospitals.webometrics.info/en/North_america/United%20States%20of%20America?page=5"
       ]
      },
      {
       "output_type": "stream",
       "stream": "stdout",
       "text": [
        "\n",
        "http://hospitals.webometrics.info/en/North_america/United%20States%20of%20America?page=6"
       ]
      },
      {
       "output_type": "stream",
       "stream": "stdout",
       "text": [
        "\n",
        "http://hospitals.webometrics.info/en/North_america/United%20States%20of%20America?page=7"
       ]
      },
      {
       "output_type": "stream",
       "stream": "stdout",
       "text": [
        "\n",
        "http://hospitals.webometrics.info/en/North_america/United%20States%20of%20America?page=8"
       ]
      },
      {
       "output_type": "stream",
       "stream": "stdout",
       "text": [
        "\n",
        "http://hospitals.webometrics.info/en/North_america/United%20States%20of%20America?page=9"
       ]
      },
      {
       "output_type": "stream",
       "stream": "stdout",
       "text": [
        "\n",
        "http://hospitals.webometrics.info/en/North_america/United%20States%20of%20America?page=10"
       ]
      },
      {
       "output_type": "stream",
       "stream": "stdout",
       "text": [
        "\n",
        "http://hospitals.webometrics.info/en/North_america/United%20States%20of%20America?page=11"
       ]
      },
      {
       "output_type": "stream",
       "stream": "stdout",
       "text": [
        "\n",
        "http://hospitals.webometrics.info/en/North_america/United%20States%20of%20America?page=12"
       ]
      },
      {
       "output_type": "stream",
       "stream": "stdout",
       "text": [
        "\n",
        "http://hospitals.webometrics.info/en/North_america/United%20States%20of%20America?page=13"
       ]
      },
      {
       "output_type": "stream",
       "stream": "stdout",
       "text": [
        "\n",
        "http://hospitals.webometrics.info/en/North_america/United%20States%20of%20America?page=14"
       ]
      },
      {
       "output_type": "stream",
       "stream": "stdout",
       "text": [
        "\n",
        "http://hospitals.webometrics.info/en/North_america/United%20States%20of%20America?page=15"
       ]
      },
      {
       "output_type": "stream",
       "stream": "stdout",
       "text": [
        "\n",
        "http://hospitals.webometrics.info/en/North_america/United%20States%20of%20America?page=16"
       ]
      },
      {
       "output_type": "stream",
       "stream": "stdout",
       "text": [
        "\n",
        "http://hospitals.webometrics.info/en/North_america/United%20States%20of%20America?page=17"
       ]
      },
      {
       "output_type": "stream",
       "stream": "stdout",
       "text": [
        "\n",
        "http://hospitals.webometrics.info/en/North_america/United%20States%20of%20America?page=18"
       ]
      },
      {
       "output_type": "stream",
       "stream": "stdout",
       "text": [
        "\n",
        "http://hospitals.webometrics.info/en/North_america/United%20States%20of%20America?page=19"
       ]
      },
      {
       "output_type": "stream",
       "stream": "stdout",
       "text": [
        "\n",
        "http://hospitals.webometrics.info/en/North_america/United%20States%20of%20America?page=20"
       ]
      },
      {
       "output_type": "stream",
       "stream": "stdout",
       "text": [
        "\n",
        "http://hospitals.webometrics.info/en/North_america/United%20States%20of%20America?page=21"
       ]
      },
      {
       "output_type": "stream",
       "stream": "stdout",
       "text": [
        "\n",
        "http://hospitals.webometrics.info/en/North_america/United%20States%20of%20America?page=22"
       ]
      },
      {
       "output_type": "stream",
       "stream": "stdout",
       "text": [
        "\n",
        "http://hospitals.webometrics.info/en/North_america/United%20States%20of%20America?page=23"
       ]
      },
      {
       "output_type": "stream",
       "stream": "stdout",
       "text": [
        "\n",
        "http://hospitals.webometrics.info/en/North_america/United%20States%20of%20America?page=24"
       ]
      },
      {
       "output_type": "stream",
       "stream": "stdout",
       "text": [
        "\n",
        "http://hospitals.webometrics.info/en/North_america/United%20States%20of%20America?page=25"
       ]
      },
      {
       "output_type": "stream",
       "stream": "stdout",
       "text": [
        "\n",
        "http://hospitals.webometrics.info/en/North_america/United%20States%20of%20America?page=26"
       ]
      },
      {
       "output_type": "stream",
       "stream": "stdout",
       "text": [
        "\n",
        "http://hospitals.webometrics.info/en/North_america/United%20States%20of%20America?page=27"
       ]
      },
      {
       "output_type": "stream",
       "stream": "stdout",
       "text": [
        "\n",
        "http://hospitals.webometrics.info/en/North_america/United%20States%20of%20America?page=28"
       ]
      },
      {
       "output_type": "stream",
       "stream": "stdout",
       "text": [
        "\n",
        "http://hospitals.webometrics.info/en/North_america/United%20States%20of%20America?page=29"
       ]
      },
      {
       "output_type": "stream",
       "stream": "stdout",
       "text": [
        "\n",
        "http://hospitals.webometrics.info/en/North_america/United%20States%20of%20America?page=30"
       ]
      },
      {
       "output_type": "stream",
       "stream": "stdout",
       "text": [
        "\n",
        "http://hospitals.webometrics.info/en/North_america/United%20States%20of%20America?page=31"
       ]
      },
      {
       "output_type": "stream",
       "stream": "stdout",
       "text": [
        "\n",
        "http://hospitals.webometrics.info/en/North_america/United%20States%20of%20America?page=32"
       ]
      },
      {
       "output_type": "stream",
       "stream": "stdout",
       "text": [
        "\n",
        "http://hospitals.webometrics.info/en/North_america/United%20States%20of%20America?page=33"
       ]
      },
      {
       "output_type": "stream",
       "stream": "stdout",
       "text": [
        "\n",
        "http://hospitals.webometrics.info/en/North_america/United%20States%20of%20America?page=34"
       ]
      },
      {
       "output_type": "stream",
       "stream": "stdout",
       "text": [
        "\n",
        "http://hospitals.webometrics.info/en/North_america/United%20States%20of%20America?page=35"
       ]
      },
      {
       "output_type": "stream",
       "stream": "stdout",
       "text": [
        "\n",
        "http://hospitals.webometrics.info/en/North_america/United%20States%20of%20America?page=36"
       ]
      },
      {
       "output_type": "stream",
       "stream": "stdout",
       "text": [
        "\n",
        "Anguilla"
       ]
      },
      {
       "output_type": "stream",
       "stream": "stdout",
       "text": [
        "\n",
        "http://hospitals.webometrics.info/en/Latin_America/Anguilla\n",
        "Antigua and Barbuda"
       ]
      },
      {
       "output_type": "stream",
       "stream": "stdout",
       "text": [
        "\n",
        "http://hospitals.webometrics.info/en/Latin_America/Antigua%20and%20Barbuda\n",
        "Argentina"
       ]
      },
      {
       "output_type": "stream",
       "stream": "stdout",
       "text": [
        "\n",
        "http://hospitals.webometrics.info/en/Latin_America/Argentina\n",
        "Aruba"
       ]
      },
      {
       "output_type": "stream",
       "stream": "stdout",
       "text": [
        "\n",
        "http://hospitals.webometrics.info/en/Latin_America/Aruba\n",
        "Barbados"
       ]
      },
      {
       "output_type": "stream",
       "stream": "stdout",
       "text": [
        "\n",
        "http://hospitals.webometrics.info/en/Latin_America/Barbados\n",
        "Belize"
       ]
      },
      {
       "output_type": "stream",
       "stream": "stdout",
       "text": [
        "\n",
        "http://hospitals.webometrics.info/en/Latin_America/Belize\n",
        "Bermuda"
       ]
      },
      {
       "output_type": "stream",
       "stream": "stdout",
       "text": [
        "\n",
        "http://hospitals.webometrics.info/en/Latin_America/Bermuda\n",
        "Bolivia"
       ]
      },
      {
       "output_type": "stream",
       "stream": "stdout",
       "text": [
        "\n",
        "http://hospitals.webometrics.info/en/Latin_America/Bolivia\n",
        "Brazil"
       ]
      },
      {
       "output_type": "stream",
       "stream": "stdout",
       "text": [
        "\n",
        "http://hospitals.webometrics.info/en/Latin_America/Brazil\n",
        "http://hospitals.webometrics.info/en/Latin_America/Brazil?page=1"
       ]
      },
      {
       "output_type": "stream",
       "stream": "stdout",
       "text": [
        "\n",
        "http://hospitals.webometrics.info/en/Latin_America/Brazil?page=2"
       ]
      },
      {
       "output_type": "stream",
       "stream": "stdout",
       "text": [
        "\n",
        "Cayman Islands"
       ]
      },
      {
       "output_type": "stream",
       "stream": "stdout",
       "text": [
        "\n",
        "http://hospitals.webometrics.info/en/Latin_America/Cayman%20Islands\n",
        "Chile"
       ]
      },
      {
       "output_type": "stream",
       "stream": "stdout",
       "text": [
        "\n",
        "http://hospitals.webometrics.info/en/Latin_America/Chile\n",
        "Colombia"
       ]
      },
      {
       "output_type": "stream",
       "stream": "stdout",
       "text": [
        "\n",
        "http://hospitals.webometrics.info/en/Latin_America/Colombia\n",
        "Costa Rica"
       ]
      },
      {
       "output_type": "stream",
       "stream": "stdout",
       "text": [
        "\n",
        "http://hospitals.webometrics.info/en/Latin_America/Costa%20Rica\n",
        "Cuba"
       ]
      },
      {
       "output_type": "stream",
       "stream": "stdout",
       "text": [
        "\n",
        "http://hospitals.webometrics.info/en/Latin_America/Cuba\n",
        "Dominica"
       ]
      },
      {
       "output_type": "stream",
       "stream": "stdout",
       "text": [
        "\n",
        "http://hospitals.webometrics.info/en/Latin_America/Dominica\n",
        "Dominican Republic"
       ]
      },
      {
       "output_type": "stream",
       "stream": "stdout",
       "text": [
        "\n",
        "http://hospitals.webometrics.info/en/Latin_America/Dominican%20Republic\n",
        "Ecuador"
       ]
      },
      {
       "output_type": "stream",
       "stream": "stdout",
       "text": [
        "\n",
        "http://hospitals.webometrics.info/en/Latin_America/Ecuador\n",
        "El Salvador"
       ]
      },
      {
       "output_type": "stream",
       "stream": "stdout",
       "text": [
        "\n",
        "http://hospitals.webometrics.info/en/Latin_America/El%20Salvador\n",
        "Falkland Islands (Malvinas)"
       ]
      },
      {
       "output_type": "stream",
       "stream": "stdout",
       "text": [
        "\n",
        "http://hospitals.webometrics.info/en/Latin_America/Falkland%20Islands%20%28Malvinas%29\n",
        "French Guiana"
       ]
      },
      {
       "output_type": "stream",
       "stream": "stdout",
       "text": [
        "\n",
        "http://hospitals.webometrics.info/en/Latin_America/French%20Guiana\n",
        "Grenada"
       ]
      },
      {
       "output_type": "stream",
       "stream": "stdout",
       "text": [
        "\n",
        "http://hospitals.webometrics.info/en/Latin_America/Grenada\n",
        "Guadeloupe"
       ]
      },
      {
       "output_type": "stream",
       "stream": "stdout",
       "text": [
        "\n",
        "http://hospitals.webometrics.info/en/Latin_America/Guadeloupe\n",
        "Guatemala"
       ]
      },
      {
       "output_type": "stream",
       "stream": "stdout",
       "text": [
        "\n",
        "http://hospitals.webometrics.info/en/Latin_America/Guatemala\n",
        "Guyana"
       ]
      },
      {
       "output_type": "stream",
       "stream": "stdout",
       "text": [
        "\n",
        "http://hospitals.webometrics.info/en/Latin_America/Guyana\n",
        "Haiti"
       ]
      },
      {
       "output_type": "stream",
       "stream": "stdout",
       "text": [
        "\n",
        "http://hospitals.webometrics.info/en/Latin_America/Haiti\n",
        "Honduras"
       ]
      },
      {
       "output_type": "stream",
       "stream": "stdout",
       "text": [
        "\n",
        "http://hospitals.webometrics.info/en/Latin_America/Honduras\n",
        "Jamaica"
       ]
      },
      {
       "output_type": "stream",
       "stream": "stdout",
       "text": [
        "\n",
        "http://hospitals.webometrics.info/en/Latin_America/Jamaica\n",
        "Martinique"
       ]
      },
      {
       "output_type": "stream",
       "stream": "stdout",
       "text": [
        "\n",
        "http://hospitals.webometrics.info/en/Latin_America/Martinique\n",
        "Mexico"
       ]
      },
      {
       "output_type": "stream",
       "stream": "stdout",
       "text": [
        "\n",
        "http://hospitals.webometrics.info/en/Latin_America/Mexico\n",
        "Montserrat"
       ]
      },
      {
       "output_type": "stream",
       "stream": "stdout",
       "text": [
        "\n",
        "http://hospitals.webometrics.info/en/Latin_America/Montserrat\n",
        "Netherlands Antilles"
       ]
      },
      {
       "output_type": "stream",
       "stream": "stdout",
       "text": [
        "\n",
        "http://hospitals.webometrics.info/en/Latin_America/Netherlands%20Antilles\n",
        "Nicaragua"
       ]
      },
      {
       "output_type": "stream",
       "stream": "stdout",
       "text": [
        "\n",
        "http://hospitals.webometrics.info/en/Latin_America/Nicaragua\n",
        "Panama"
       ]
      },
      {
       "output_type": "stream",
       "stream": "stdout",
       "text": [
        "\n",
        "http://hospitals.webometrics.info/en/Latin_America/Panama\n",
        "Paraguay"
       ]
      },
      {
       "output_type": "stream",
       "stream": "stdout",
       "text": [
        "\n",
        "http://hospitals.webometrics.info/en/Latin_America/Paraguay\n",
        "Peru"
       ]
      },
      {
       "output_type": "stream",
       "stream": "stdout",
       "text": [
        "\n",
        "http://hospitals.webometrics.info/en/Latin_America/Peru\n",
        "Puerto Rico"
       ]
      },
      {
       "output_type": "stream",
       "stream": "stdout",
       "text": [
        "\n",
        "http://hospitals.webometrics.info/en/Latin_America/Puerto%20Rico\n",
        "Saint Kitts and Nevis "
       ]
      },
      {
       "output_type": "stream",
       "stream": "stdout",
       "text": [
        "\n",
        "http://hospitals.webometrics.info/en/Latin_America/Saint%20Kitts%20and%20Nevis%20\n",
        "Saint Lucia "
       ]
      },
      {
       "output_type": "stream",
       "stream": "stdout",
       "text": [
        "\n",
        "http://hospitals.webometrics.info/en/Latin_America/Saint%20Lucia%20\n",
        "Saint Vincent and the Grenadines"
       ]
      },
      {
       "output_type": "stream",
       "stream": "stdout",
       "text": [
        "\n",
        "http://hospitals.webometrics.info/en/Latin_America/Saint%20Vincent%20and%20the%20Grenadines\n",
        "South Georgia & the South Sandwich Islands"
       ]
      },
      {
       "output_type": "stream",
       "stream": "stdout",
       "text": [
        "\n",
        "http://hospitals.webometrics.info/en/Latin_America/South%20Georgia%20%26%20the%20South%20Sandwich%20Islands\n",
        "Suriname "
       ]
      },
      {
       "output_type": "stream",
       "stream": "stdout",
       "text": [
        "\n",
        "http://hospitals.webometrics.info/en/Latin_America/Suriname%20\n",
        "The Bahamas"
       ]
      },
      {
       "output_type": "stream",
       "stream": "stdout",
       "text": [
        "\n",
        "http://hospitals.webometrics.info/en/Latin_America/The%20Bahamas\n",
        "Trinidad and Tobago "
       ]
      },
      {
       "output_type": "stream",
       "stream": "stdout",
       "text": [
        "\n",
        "http://hospitals.webometrics.info/en/Latin_America/Trinidad%20and%20Tobago%20\n",
        "Turks and Caicos Islands"
       ]
      },
      {
       "output_type": "stream",
       "stream": "stdout",
       "text": [
        "\n",
        "http://hospitals.webometrics.info/en/Latin_America/Turks%20and%20Caicos%20Islands\n",
        "Uruguay"
       ]
      },
      {
       "output_type": "stream",
       "stream": "stdout",
       "text": [
        "\n",
        "http://hospitals.webometrics.info/en/Latin_America/Uruguay\n",
        "Venezuela"
       ]
      },
      {
       "output_type": "stream",
       "stream": "stdout",
       "text": [
        "\n",
        "http://hospitals.webometrics.info/en/Latin_America/Venezuela\n",
        "Virgin Islands (British)"
       ]
      },
      {
       "output_type": "stream",
       "stream": "stdout",
       "text": [
        "\n",
        "http://hospitals.webometrics.info/en/Latin_America/Virgin%20Islands%20%28British%29\n",
        "Virgin Islands (U.S.)"
       ]
      },
      {
       "output_type": "stream",
       "stream": "stdout",
       "text": [
        "\n",
        "http://hospitals.webometrics.info/en/Latin_America/Virgin%20Islands%20%28U.S.%29\n",
        "Albania"
       ]
      },
      {
       "output_type": "stream",
       "stream": "stdout",
       "text": [
        "\n",
        "http://hospitals.webometrics.info/en/Europe/Albania\n",
        "Andorra"
       ]
      },
      {
       "output_type": "stream",
       "stream": "stdout",
       "text": [
        "\n",
        "http://hospitals.webometrics.info/en/Europe/Andorra\n",
        "Armenia"
       ]
      },
      {
       "output_type": "stream",
       "stream": "stdout",
       "text": [
        "\n",
        "http://hospitals.webometrics.info/en/Europe/Armenia\n",
        "Austria"
       ]
      },
      {
       "output_type": "stream",
       "stream": "stdout",
       "text": [
        "\n",
        "http://hospitals.webometrics.info/en/Europe/Austria\n",
        "Azerbaijan"
       ]
      },
      {
       "output_type": "stream",
       "stream": "stdout",
       "text": [
        "\n",
        "http://hospitals.webometrics.info/en/Europe/Azerbaijan\n",
        "Belarus"
       ]
      },
      {
       "output_type": "stream",
       "stream": "stdout",
       "text": [
        "\n",
        "http://hospitals.webometrics.info/en/Europe/Belarus\n",
        "Belgium "
       ]
      },
      {
       "output_type": "stream",
       "stream": "stdout",
       "text": [
        "\n",
        "http://hospitals.webometrics.info/en/Europe/Belgium%20\n",
        "http://hospitals.webometrics.info/en/Europe/Belgium%20?page=1"
       ]
      },
      {
       "output_type": "stream",
       "stream": "stdout",
       "text": [
        "\n",
        "Bosnia and Herzegovina "
       ]
      },
      {
       "output_type": "stream",
       "stream": "stdout",
       "text": [
        "\n",
        "http://hospitals.webometrics.info/en/Europe/Bosnia%20and%20Herzegovina%20\n",
        "Bulgaria "
       ]
      },
      {
       "output_type": "stream",
       "stream": "stdout",
       "text": [
        "\n",
        "http://hospitals.webometrics.info/en/Europe/Bulgaria%20\n",
        "Croatia  (local name: Hrvatska)"
       ]
      },
      {
       "output_type": "stream",
       "stream": "stdout",
       "text": [
        "\n",
        "http://hospitals.webometrics.info/en/Europe/Croatia%20%20%28local%20name%3A%20Hrvatska%29\n",
        "Cyprus"
       ]
      },
      {
       "output_type": "stream",
       "stream": "stdout",
       "text": [
        "\n",
        "http://hospitals.webometrics.info/en/Europe/Cyprus\n",
        "Czech Republic "
       ]
      },
      {
       "output_type": "stream",
       "stream": "stdout",
       "text": [
        "\n",
        "http://hospitals.webometrics.info/en/Europe/Czech%20Republic%20\n",
        "http://hospitals.webometrics.info/en/Europe/Czech%20Republic%20?page=1"
       ]
      },
      {
       "output_type": "stream",
       "stream": "stdout",
       "text": [
        "\n",
        "http://hospitals.webometrics.info/en/Europe/Czech%20Republic%20?page=2"
       ]
      },
      {
       "output_type": "stream",
       "stream": "stdout",
       "text": [
        "\n",
        "Denmark "
       ]
      },
      {
       "output_type": "stream",
       "stream": "stdout",
       "text": [
        "\n",
        "http://hospitals.webometrics.info/en/Europe/Denmark%20\n",
        "Estonia "
       ]
      },
      {
       "output_type": "stream",
       "stream": "stdout",
       "text": [
        "\n",
        "http://hospitals.webometrics.info/en/Europe/Estonia%20\n",
        "European Union"
       ]
      },
      {
       "output_type": "stream",
       "stream": "stdout",
       "text": [
        "\n",
        "http://hospitals.webometrics.info/en/Europe/European%20Union\n",
        "Faroe Islands"
       ]
      },
      {
       "output_type": "stream",
       "stream": "stdout",
       "text": [
        "\n",
        "http://hospitals.webometrics.info/en/Europe/Faroe%20Islands\n",
        "Finland "
       ]
      },
      {
       "output_type": "stream",
       "stream": "stdout",
       "text": [
        "\n",
        "http://hospitals.webometrics.info/en/Europe/Finland%20\n",
        "France "
       ]
      },
      {
       "output_type": "stream",
       "stream": "stdout",
       "text": [
        "\n",
        "http://hospitals.webometrics.info/en/Europe/France%20\n",
        "http://hospitals.webometrics.info/en/Europe/France%20?page=1"
       ]
      },
      {
       "output_type": "stream",
       "stream": "stdout",
       "text": [
        "\n",
        "http://hospitals.webometrics.info/en/Europe/France%20?page=2"
       ]
      },
      {
       "output_type": "stream",
       "stream": "stdout",
       "text": [
        "\n",
        "http://hospitals.webometrics.info/en/Europe/France%20?page=3"
       ]
      },
      {
       "output_type": "stream",
       "stream": "stdout",
       "text": [
        "\n",
        "Georgia "
       ]
      },
      {
       "output_type": "stream",
       "stream": "stdout",
       "text": [
        "\n",
        "http://hospitals.webometrics.info/en/Europe/Georgia%20\n",
        "Germany "
       ]
      },
      {
       "output_type": "stream",
       "stream": "stdout",
       "text": [
        "\n",
        "http://hospitals.webometrics.info/en/Europe/Germany%20\n",
        "http://hospitals.webometrics.info/en/Europe/Germany%20?page=1"
       ]
      },
      {
       "output_type": "stream",
       "stream": "stdout",
       "text": [
        "\n",
        "http://hospitals.webometrics.info/en/Europe/Germany%20?page=2"
       ]
      },
      {
       "output_type": "stream",
       "stream": "stdout",
       "text": [
        "\n",
        "http://hospitals.webometrics.info/en/Europe/Germany%20?page=3"
       ]
      },
      {
       "output_type": "stream",
       "stream": "stdout",
       "text": [
        "\n",
        "http://hospitals.webometrics.info/en/Europe/Germany%20?page=4"
       ]
      },
      {
       "output_type": "stream",
       "stream": "stdout",
       "text": [
        "\n",
        "http://hospitals.webometrics.info/en/Europe/Germany%20?page=5"
       ]
      },
      {
       "output_type": "stream",
       "stream": "stdout",
       "text": [
        "\n",
        "http://hospitals.webometrics.info/en/Europe/Germany%20?page=6"
       ]
      },
      {
       "output_type": "stream",
       "stream": "stdout",
       "text": [
        "\n",
        "http://hospitals.webometrics.info/en/Europe/Germany%20?page=7"
       ]
      },
      {
       "output_type": "stream",
       "stream": "stdout",
       "text": [
        "\n",
        "http://hospitals.webometrics.info/en/Europe/Germany%20?page=8"
       ]
      },
      {
       "output_type": "stream",
       "stream": "stdout",
       "text": [
        "\n",
        "Gibraltar"
       ]
      },
      {
       "output_type": "stream",
       "stream": "stdout",
       "text": [
        "\n",
        "http://hospitals.webometrics.info/en/Europe/Gibraltar\n",
        "Greece "
       ]
      },
      {
       "output_type": "stream",
       "stream": "stdout",
       "text": [
        "\n",
        "http://hospitals.webometrics.info/en/Europe/Greece%20\n",
        "Greenland"
       ]
      },
      {
       "output_type": "stream",
       "stream": "stdout",
       "text": [
        "\n",
        "http://hospitals.webometrics.info/en/Europe/Greenland\n",
        "Holy See"
       ]
      },
      {
       "output_type": "stream",
       "stream": "stdout",
       "text": [
        "\n",
        "http://hospitals.webometrics.info/en/Europe/Holy%20See\n",
        "Hungary "
       ]
      },
      {
       "output_type": "stream",
       "stream": "stdout",
       "text": [
        "\n",
        "http://hospitals.webometrics.info/en/Europe/Hungary%20\n",
        "Iceland "
       ]
      },
      {
       "output_type": "stream",
       "stream": "stdout",
       "text": [
        "\n",
        "http://hospitals.webometrics.info/en/Europe/Iceland%20\n",
        "Ireland "
       ]
      },
      {
       "output_type": "stream",
       "stream": "stdout",
       "text": [
        "\n",
        "http://hospitals.webometrics.info/en/Europe/Ireland%20\n",
        "Israel"
       ]
      },
      {
       "output_type": "stream",
       "stream": "stdout",
       "text": [
        "\n",
        "http://hospitals.webometrics.info/en/Europe/Israel\n",
        "Italy "
       ]
      },
      {
       "output_type": "stream",
       "stream": "stdout",
       "text": [
        "\n",
        "http://hospitals.webometrics.info/en/Europe/Italy%20\n",
        "http://hospitals.webometrics.info/en/Europe/Italy%20?page=1"
       ]
      },
      {
       "output_type": "stream",
       "stream": "stdout",
       "text": [
        "\n",
        "http://hospitals.webometrics.info/en/Europe/Italy%20?page=2"
       ]
      },
      {
       "output_type": "stream",
       "stream": "stdout",
       "text": [
        "\n",
        "Latvia "
       ]
      },
      {
       "output_type": "stream",
       "stream": "stdout",
       "text": [
        "\n",
        "http://hospitals.webometrics.info/en/Europe/Latvia%20\n",
        "Liechtenstein "
       ]
      },
      {
       "output_type": "stream",
       "stream": "stdout",
       "text": [
        "\n",
        "http://hospitals.webometrics.info/en/Europe/Liechtenstein%20\n",
        "Lithuania "
       ]
      },
      {
       "output_type": "stream",
       "stream": "stdout",
       "text": [
        "\n",
        "http://hospitals.webometrics.info/en/Europe/Lithuania%20\n",
        "Luxembourg"
       ]
      },
      {
       "output_type": "stream",
       "stream": "stdout",
       "text": [
        "\n",
        "http://hospitals.webometrics.info/en/Europe/Luxembourg\n",
        "Macedonia"
       ]
      },
      {
       "output_type": "stream",
       "stream": "stdout",
       "text": [
        "\n",
        "http://hospitals.webometrics.info/en/Europe/Macedonia\n",
        "Malta"
       ]
      },
      {
       "output_type": "stream",
       "stream": "stdout",
       "text": [
        "\n",
        "http://hospitals.webometrics.info/en/Europe/Malta\n",
        "Man, Isle of"
       ]
      },
      {
       "output_type": "stream",
       "stream": "stdout",
       "text": [
        "\n",
        "http://hospitals.webometrics.info/en/Europe/Man%2C%20Isle%20of\n",
        "Moldova, Republic of"
       ]
      },
      {
       "output_type": "stream",
       "stream": "stdout",
       "text": [
        "\n",
        "http://hospitals.webometrics.info/en/Europe/Moldova%2C%20Republic%20of\n",
        "Monaco "
       ]
      },
      {
       "output_type": "stream",
       "stream": "stdout",
       "text": [
        "\n",
        "http://hospitals.webometrics.info/en/Europe/Monaco%20\n",
        "Montenegro"
       ]
      },
      {
       "output_type": "stream",
       "stream": "stdout",
       "text": [
        "\n",
        "http://hospitals.webometrics.info/en/Europe/Montenegro\n",
        "Netherlands"
       ]
      },
      {
       "output_type": "stream",
       "stream": "stdout",
       "text": [
        "\n",
        "http://hospitals.webometrics.info/en/Europe/Netherlands\n",
        "http://hospitals.webometrics.info/en/Europe/Netherlands?page=1"
       ]
      },
      {
       "output_type": "stream",
       "stream": "stdout",
       "text": [
        "\n",
        "Norway "
       ]
      },
      {
       "output_type": "stream",
       "stream": "stdout",
       "text": [
        "\n",
        "http://hospitals.webometrics.info/en/Europe/Norway%20\n",
        "Poland"
       ]
      },
      {
       "output_type": "stream",
       "stream": "stdout",
       "text": [
        "\n",
        "http://hospitals.webometrics.info/en/Europe/Poland\n",
        "http://hospitals.webometrics.info/en/Europe/Poland?page=1"
       ]
      },
      {
       "output_type": "stream",
       "stream": "stdout",
       "text": [
        "\n",
        "http://hospitals.webometrics.info/en/Europe/Poland?page=2"
       ]
      },
      {
       "output_type": "stream",
       "stream": "stdout",
       "text": [
        "\n",
        "Portugal"
       ]
      },
      {
       "output_type": "stream",
       "stream": "stdout",
       "text": [
        "\n",
        "http://hospitals.webometrics.info/en/Europe/Portugal\n",
        "Romania"
       ]
      },
      {
       "output_type": "stream",
       "stream": "stdout",
       "text": [
        "\n",
        "http://hospitals.webometrics.info/en/Europe/Romania\n",
        "Russian Federation"
       ]
      },
      {
       "output_type": "stream",
       "stream": "stdout",
       "text": [
        "\n",
        "http://hospitals.webometrics.info/en/Europe/Russian%20Federation\n",
        "http://hospitals.webometrics.info/en/Europe/Russian%20Federation?page=1"
       ]
      },
      {
       "output_type": "stream",
       "stream": "stdout",
       "text": [
        "\n",
        "http://hospitals.webometrics.info/en/Europe/Russian%20Federation?page=2"
       ]
      },
      {
       "output_type": "stream",
       "stream": "stdout",
       "text": [
        "\n",
        "San Marino"
       ]
      },
      {
       "output_type": "stream",
       "stream": "stdout",
       "text": [
        "\n",
        "http://hospitals.webometrics.info/en/Europe/San%20Marino\n",
        "Serbia"
       ]
      },
      {
       "output_type": "stream",
       "stream": "stdout",
       "text": [
        "\n",
        "http://hospitals.webometrics.info/en/Europe/Serbia\n",
        "Slovakia "
       ]
      },
      {
       "output_type": "stream",
       "stream": "stdout",
       "text": [
        "\n",
        "http://hospitals.webometrics.info/en/Europe/Slovakia%20\n",
        "Slovenia "
       ]
      },
      {
       "output_type": "stream",
       "stream": "stdout",
       "text": [
        "\n",
        "http://hospitals.webometrics.info/en/Europe/Slovenia%20\n",
        "Spain "
       ]
      },
      {
       "output_type": "stream",
       "stream": "stdout",
       "text": [
        "\n",
        "http://hospitals.webometrics.info/en/Europe/Spain%20\n",
        "http://hospitals.webometrics.info/en/Europe/Spain%20?page=1"
       ]
      },
      {
       "output_type": "stream",
       "stream": "stdout",
       "text": [
        "\n",
        "http://hospitals.webometrics.info/en/Europe/Spain%20?page=2"
       ]
      },
      {
       "output_type": "stream",
       "stream": "stdout",
       "text": [
        "\n",
        "http://hospitals.webometrics.info/en/Europe/Spain%20?page=3"
       ]
      },
      {
       "output_type": "stream",
       "stream": "stdout",
       "text": [
        "\n",
        "Svalbard and Jan Mayen Islands"
       ]
      },
      {
       "output_type": "stream",
       "stream": "stdout",
       "text": [
        "\n",
        "http://hospitals.webometrics.info/en/Europe/Svalbard%20and%20Jan%20Mayen%20Islands\n",
        "Sweden "
       ]
      },
      {
       "output_type": "stream",
       "stream": "stdout",
       "text": [
        "\n",
        "http://hospitals.webometrics.info/en/Europe/Sweden%20\n",
        "Switzerland "
       ]
      },
      {
       "output_type": "stream",
       "stream": "stdout",
       "text": [
        "\n",
        "http://hospitals.webometrics.info/en/Europe/Switzerland%20\n",
        "http://hospitals.webometrics.info/en/Europe/Switzerland%20?page=1"
       ]
      },
      {
       "output_type": "stream",
       "stream": "stdout",
       "text": [
        "\n",
        "http://hospitals.webometrics.info/en/Europe/Switzerland%20?page=2"
       ]
      },
      {
       "output_type": "stream",
       "stream": "stdout",
       "text": [
        "\n",
        "Turkey"
       ]
      },
      {
       "output_type": "stream",
       "stream": "stdout",
       "text": [
        "\n",
        "http://hospitals.webometrics.info/en/Europe/Turkey\n",
        "http://hospitals.webometrics.info/en/Europe/Turkey?page=1"
       ]
      },
      {
       "output_type": "stream",
       "stream": "stdout",
       "text": [
        "\n",
        "http://hospitals.webometrics.info/en/Europe/Turkey?page=2"
       ]
      },
      {
       "output_type": "stream",
       "stream": "stdout",
       "text": [
        "\n",
        "Ukraine "
       ]
      },
      {
       "output_type": "stream",
       "stream": "stdout",
       "text": [
        "\n",
        "http://hospitals.webometrics.info/en/Europe/Ukraine%20\n",
        "United Kingdom"
       ]
      },
      {
       "output_type": "stream",
       "stream": "stdout",
       "text": [
        "\n",
        "http://hospitals.webometrics.info/en/Europe/United%20Kingdom\n",
        "http://hospitals.webometrics.info/en/Europe/United%20Kingdom?page=1"
       ]
      },
      {
       "output_type": "stream",
       "stream": "stdout",
       "text": [
        "\n",
        "http://hospitals.webometrics.info/en/Europe/United%20Kingdom?page=2"
       ]
      },
      {
       "output_type": "stream",
       "stream": "stdout",
       "text": [
        "\n",
        "http://hospitals.webometrics.info/en/Europe/United%20Kingdom?page=3"
       ]
      },
      {
       "output_type": "stream",
       "stream": "stdout",
       "text": [
        "\n",
        "http://hospitals.webometrics.info/en/Europe/United%20Kingdom?page=4"
       ]
      },
      {
       "output_type": "stream",
       "stream": "stdout",
       "text": [
        "\n",
        "Afghanistan"
       ]
      },
      {
       "output_type": "stream",
       "stream": "stdout",
       "text": [
        "\n",
        "http://hospitals.webometrics.info/en/Asia/Afghanistan\n",
        "Bahrain "
       ]
      },
      {
       "output_type": "stream",
       "stream": "stdout",
       "text": [
        "\n",
        "http://hospitals.webometrics.info/en/Asia/Bahrain%20\n",
        "Bangladesh "
       ]
      },
      {
       "output_type": "stream",
       "stream": "stdout",
       "text": [
        "\n",
        "http://hospitals.webometrics.info/en/Asia/Bangladesh%20\n",
        "Bhutan "
       ]
      },
      {
       "output_type": "stream",
       "stream": "stdout",
       "text": [
        "\n",
        "http://hospitals.webometrics.info/en/Asia/Bhutan%20\n",
        "Brunei Darussalam"
       ]
      },
      {
       "output_type": "stream",
       "stream": "stdout",
       "text": [
        "\n",
        "http://hospitals.webometrics.info/en/Asia/Brunei%20Darussalam\n",
        "Cambodia "
       ]
      },
      {
       "output_type": "stream",
       "stream": "stdout",
       "text": [
        "\n",
        "http://hospitals.webometrics.info/en/Asia/Cambodia%20\n",
        "China "
       ]
      },
      {
       "output_type": "stream",
       "stream": "stdout",
       "text": [
        "\n",
        "http://hospitals.webometrics.info/en/Asia/China%20\n",
        "http://hospitals.webometrics.info/en/Asia/China%20?page=1"
       ]
      },
      {
       "output_type": "stream",
       "stream": "stdout",
       "text": [
        "\n",
        "http://hospitals.webometrics.info/en/Asia/China%20?page=2"
       ]
      },
      {
       "output_type": "stream",
       "stream": "stdout",
       "text": [
        "\n",
        "http://hospitals.webometrics.info/en/Asia/China%20?page=3"
       ]
      },
      {
       "output_type": "stream",
       "stream": "stdout",
       "text": [
        "\n",
        "http://hospitals.webometrics.info/en/Asia/China%20?page=4"
       ]
      },
      {
       "output_type": "stream",
       "stream": "stdout",
       "text": [
        "\n",
        "http://hospitals.webometrics.info/en/Asia/China%20?page=5"
       ]
      },
      {
       "output_type": "stream",
       "stream": "stdout",
       "text": [
        "\n",
        "http://hospitals.webometrics.info/en/Asia/China%20?page=6"
       ]
      },
      {
       "output_type": "stream",
       "stream": "stdout",
       "text": [
        "\n",
        "http://hospitals.webometrics.info/en/Asia/China%20?page=7"
       ]
      },
      {
       "output_type": "stream",
       "stream": "stdout",
       "text": [
        "\n",
        "East Timor"
       ]
      },
      {
       "output_type": "stream",
       "stream": "stdout",
       "text": [
        "\n",
        "http://hospitals.webometrics.info/en/Asia/East%20Timor\n",
        "Hong Kong"
       ]
      },
      {
       "output_type": "stream",
       "stream": "stdout",
       "text": [
        "\n",
        "http://hospitals.webometrics.info/en/Asia/Hong%20Kong\n",
        "India"
       ]
      },
      {
       "output_type": "stream",
       "stream": "stdout",
       "text": [
        "\n",
        "http://hospitals.webometrics.info/en/Asia/India\n",
        "http://hospitals.webometrics.info/en/Asia/India?page=1"
       ]
      },
      {
       "output_type": "stream",
       "stream": "stdout",
       "text": [
        "\n",
        "Indonesia "
       ]
      },
      {
       "output_type": "stream",
       "stream": "stdout",
       "text": [
        "\n",
        "http://hospitals.webometrics.info/en/Asia/Indonesia%20\n",
        "Iran (Islamic Republic of)"
       ]
      },
      {
       "output_type": "stream",
       "stream": "stdout",
       "text": [
        "\n",
        "http://hospitals.webometrics.info/en/Asia/Iran%20%28Islamic%20Republic%20of%29\n",
        "Iraq"
       ]
      },
      {
       "output_type": "stream",
       "stream": "stdout",
       "text": [
        "\n",
        "http://hospitals.webometrics.info/en/Asia/Iraq\n",
        "Israel"
       ]
      },
      {
       "output_type": "stream",
       "stream": "stdout",
       "text": [
        "\n",
        "http://hospitals.webometrics.info/en/Asia/Israel\n",
        "Japan"
       ]
      },
      {
       "output_type": "stream",
       "stream": "stdout",
       "text": [
        "\n",
        "http://hospitals.webometrics.info/en/Asia/Japan\n",
        "http://hospitals.webometrics.info/en/Asia/Japan?page=1"
       ]
      },
      {
       "output_type": "stream",
       "stream": "stdout",
       "text": [
        "\n",
        "http://hospitals.webometrics.info/en/Asia/Japan?page=2"
       ]
      },
      {
       "output_type": "stream",
       "stream": "stdout",
       "text": [
        "\n",
        "http://hospitals.webometrics.info/en/Asia/Japan?page=3"
       ]
      },
      {
       "output_type": "stream",
       "stream": "stdout",
       "text": [
        "\n",
        "http://hospitals.webometrics.info/en/Asia/Japan?page=4"
       ]
      },
      {
       "output_type": "stream",
       "stream": "stdout",
       "text": [
        "\n",
        "http://hospitals.webometrics.info/en/Asia/Japan?page=5"
       ]
      },
      {
       "output_type": "stream",
       "stream": "stdout",
       "text": [
        "\n",
        "http://hospitals.webometrics.info/en/Asia/Japan?page=6"
       ]
      },
      {
       "output_type": "stream",
       "stream": "stdout",
       "text": [
        "\n",
        "http://hospitals.webometrics.info/en/Asia/Japan?page=7"
       ]
      },
      {
       "output_type": "stream",
       "stream": "stdout",
       "text": [
        "\n",
        "http://hospitals.webometrics.info/en/Asia/Japan?page=8"
       ]
      },
      {
       "output_type": "stream",
       "stream": "stdout",
       "text": [
        "\n",
        "http://hospitals.webometrics.info/en/Asia/Japan?page=9"
       ]
      },
      {
       "output_type": "stream",
       "stream": "stdout",
       "text": [
        "\n",
        "Jordan"
       ]
      },
      {
       "output_type": "stream",
       "stream": "stdout",
       "text": [
        "\n",
        "http://hospitals.webometrics.info/en/Asia/Jordan\n",
        "Kazakstan"
       ]
      },
      {
       "output_type": "stream",
       "stream": "stdout",
       "text": [
        "\n",
        "http://hospitals.webometrics.info/en/Asia/Kazakstan\n",
        "Kuwait"
       ]
      },
      {
       "output_type": "stream",
       "stream": "stdout",
       "text": [
        "\n",
        "http://hospitals.webometrics.info/en/Asia/Kuwait\n",
        "Kyrgyzstan "
       ]
      },
      {
       "output_type": "stream",
       "stream": "stdout",
       "text": [
        "\n",
        "http://hospitals.webometrics.info/en/Asia/Kyrgyzstan%20\n",
        "Laos"
       ]
      },
      {
       "output_type": "stream",
       "stream": "stdout",
       "text": [
        "\n",
        "http://hospitals.webometrics.info/en/Asia/Laos\n",
        "Lebanon "
       ]
      },
      {
       "output_type": "stream",
       "stream": "stdout",
       "text": [
        "\n",
        "http://hospitals.webometrics.info/en/Asia/Lebanon%20\n",
        "Macau"
       ]
      },
      {
       "output_type": "stream",
       "stream": "stdout",
       "text": [
        "\n",
        "http://hospitals.webometrics.info/en/Asia/Macau\n",
        "Malaysia "
       ]
      },
      {
       "output_type": "stream",
       "stream": "stdout",
       "text": [
        "\n",
        "http://hospitals.webometrics.info/en/Asia/Malaysia%20\n",
        "Maldives "
       ]
      },
      {
       "output_type": "stream",
       "stream": "stdout",
       "text": [
        "\n",
        "http://hospitals.webometrics.info/en/Asia/Maldives%20\n",
        "Mongolia "
       ]
      },
      {
       "output_type": "stream",
       "stream": "stdout",
       "text": [
        "\n",
        "http://hospitals.webometrics.info/en/Asia/Mongolia%20\n",
        "Nepal "
       ]
      },
      {
       "output_type": "stream",
       "stream": "stdout",
       "text": [
        "\n",
        "http://hospitals.webometrics.info/en/Asia/Nepal%20\n",
        "Oman "
       ]
      },
      {
       "output_type": "stream",
       "stream": "stdout",
       "text": [
        "\n",
        "http://hospitals.webometrics.info/en/Asia/Oman%20\n",
        "Pakistan "
       ]
      },
      {
       "output_type": "stream",
       "stream": "stdout",
       "text": [
        "\n",
        "http://hospitals.webometrics.info/en/Asia/Pakistan%20\n",
        "Palestinian Territories"
       ]
      },
      {
       "output_type": "stream",
       "stream": "stdout",
       "text": [
        "\n",
        "http://hospitals.webometrics.info/en/Asia/Palestinian%20Territories\n",
        "Philippines"
       ]
      },
      {
       "output_type": "stream",
       "stream": "stdout",
       "text": [
        "\n",
        "http://hospitals.webometrics.info/en/Asia/Philippines\n",
        "Qatar "
       ]
      },
      {
       "output_type": "stream",
       "stream": "stdout",
       "text": [
        "\n",
        "http://hospitals.webometrics.info/en/Asia/Qatar%20\n",
        "Republic Of Korea"
       ]
      },
      {
       "output_type": "stream",
       "stream": "stdout",
       "text": [
        "\n",
        "http://hospitals.webometrics.info/en/Asia/Republic%20Of%20Korea\n",
        "http://hospitals.webometrics.info/en/Asia/Republic%20Of%20Korea?page=1"
       ]
      },
      {
       "output_type": "stream",
       "stream": "stdout",
       "text": [
        "\n",
        "Saudi Arabia "
       ]
      },
      {
       "output_type": "stream",
       "stream": "stdout",
       "text": [
        "\n",
        "http://hospitals.webometrics.info/en/Asia/Saudi%20Arabia%20\n",
        "Singapore "
       ]
      },
      {
       "output_type": "stream",
       "stream": "stdout",
       "text": [
        "\n",
        "http://hospitals.webometrics.info/en/Asia/Singapore%20\n",
        "Sri Lanka "
       ]
      },
      {
       "output_type": "stream",
       "stream": "stdout",
       "text": [
        "\n",
        "http://hospitals.webometrics.info/en/Asia/Sri%20Lanka%20\n",
        "Syrian Arab Republic"
       ]
      },
      {
       "output_type": "stream",
       "stream": "stdout",
       "text": [
        "\n",
        "http://hospitals.webometrics.info/en/Asia/Syrian%20Arab%20Republic\n",
        "Taiwan"
       ]
      },
      {
       "output_type": "stream",
       "stream": "stdout",
       "text": [
        "\n",
        "http://hospitals.webometrics.info/en/Asia/Taiwan\n",
        "http://hospitals.webometrics.info/en/Asia/Taiwan?page=1"
       ]
      },
      {
       "output_type": "stream",
       "stream": "stdout",
       "text": [
        "\n",
        "Tajikistan "
       ]
      },
      {
       "output_type": "stream",
       "stream": "stdout",
       "text": [
        "\n",
        "http://hospitals.webometrics.info/en/Asia/Tajikistan%20\n",
        "Thailand"
       ]
      },
      {
       "output_type": "stream",
       "stream": "stdout",
       "text": [
        "\n",
        "http://hospitals.webometrics.info/en/Asia/Thailand\n",
        "Turkey"
       ]
      },
      {
       "output_type": "stream",
       "stream": "stdout",
       "text": [
        "\n",
        "http://hospitals.webometrics.info/en/Asia/Turkey\n",
        "http://hospitals.webometrics.info/en/Asia/Turkey?page=1"
       ]
      },
      {
       "output_type": "stream",
       "stream": "stdout",
       "text": [
        "\n",
        "http://hospitals.webometrics.info/en/Asia/Turkey?page=2"
       ]
      },
      {
       "output_type": "stream",
       "stream": "stdout",
       "text": [
        "\n",
        "Turkmenistan "
       ]
      },
      {
       "output_type": "stream",
       "stream": "stdout",
       "text": [
        "\n",
        "http://hospitals.webometrics.info/en/Asia/Turkmenistan%20\n",
        "United Arab Emirates "
       ]
      },
      {
       "output_type": "stream",
       "stream": "stdout",
       "text": [
        "\n",
        "http://hospitals.webometrics.info/en/Asia/United%20Arab%20Emirates%20\n",
        "Uzbekistan"
       ]
      },
      {
       "output_type": "stream",
       "stream": "stdout",
       "text": [
        "\n",
        "http://hospitals.webometrics.info/en/Asia/Uzbekistan\n",
        "Vietnam"
       ]
      },
      {
       "output_type": "stream",
       "stream": "stdout",
       "text": [
        "\n",
        "http://hospitals.webometrics.info/en/Asia/Vietnam\n",
        "Yemen"
       ]
      },
      {
       "output_type": "stream",
       "stream": "stdout",
       "text": [
        "\n",
        "http://hospitals.webometrics.info/en/Asia/Yemen\n",
        "Algeria"
       ]
      },
      {
       "output_type": "stream",
       "stream": "stdout",
       "text": [
        "\n",
        "http://hospitals.webometrics.info/en/Africa/Algeria\n",
        "Angola"
       ]
      },
      {
       "output_type": "stream",
       "stream": "stdout",
       "text": [
        "\n",
        "http://hospitals.webometrics.info/en/Africa/Angola\n",
        "Benin "
       ]
      },
      {
       "output_type": "stream",
       "stream": "stdout",
       "text": [
        "\n",
        "http://hospitals.webometrics.info/en/Africa/Benin%20\n",
        "Botswana "
       ]
      },
      {
       "output_type": "stream",
       "stream": "stdout",
       "text": [
        "\n",
        "http://hospitals.webometrics.info/en/Africa/Botswana%20\n",
        "Burkina Faso "
       ]
      },
      {
       "output_type": "stream",
       "stream": "stdout",
       "text": [
        "\n",
        "http://hospitals.webometrics.info/en/Africa/Burkina%20Faso%20\n",
        "Burundi "
       ]
      },
      {
       "output_type": "stream",
       "stream": "stdout",
       "text": [
        "\n",
        "http://hospitals.webometrics.info/en/Africa/Burundi%20\n",
        "Cameroon "
       ]
      },
      {
       "output_type": "stream",
       "stream": "stdout",
       "text": [
        "\n",
        "http://hospitals.webometrics.info/en/Africa/Cameroon%20\n",
        "Cape Verde "
       ]
      },
      {
       "output_type": "stream",
       "stream": "stdout",
       "text": [
        "\n",
        "http://hospitals.webometrics.info/en/Africa/Cape%20Verde%20\n",
        "Central African Republic "
       ]
      },
      {
       "output_type": "stream",
       "stream": "stdout",
       "text": [
        "\n",
        "http://hospitals.webometrics.info/en/Africa/Central%20African%20Republic%20\n",
        "Chad "
       ]
      },
      {
       "output_type": "stream",
       "stream": "stdout",
       "text": [
        "\n",
        "http://hospitals.webometrics.info/en/Africa/Chad%20\n",
        "Comoros "
       ]
      },
      {
       "output_type": "stream",
       "stream": "stdout",
       "text": [
        "\n",
        "http://hospitals.webometrics.info/en/Africa/Comoros%20\n",
        "C\u00f4te D'Ivoire "
       ]
      },
      {
       "output_type": "stream",
       "stream": "stdout",
       "text": [
        "\n",
        "http://hospitals.webometrics.info/en/Africa/C%C3%B4te%20D%27Ivoire%20\n",
        "Dem. Republic of the Congo"
       ]
      },
      {
       "output_type": "stream",
       "stream": "stdout",
       "text": [
        "\n",
        "http://hospitals.webometrics.info/en/Africa/Dem.%20Republic%20of%20the%20Congo\n",
        "Djibouti "
       ]
      },
      {
       "output_type": "stream",
       "stream": "stdout",
       "text": [
        "\n",
        "http://hospitals.webometrics.info/en/Africa/Djibouti%20\n",
        "Egypt"
       ]
      },
      {
       "output_type": "stream",
       "stream": "stdout",
       "text": [
        "\n",
        "http://hospitals.webometrics.info/en/Africa/Egypt\n",
        "Equatorial Guinea"
       ]
      },
      {
       "output_type": "stream",
       "stream": "stdout",
       "text": [
        "\n",
        "http://hospitals.webometrics.info/en/Africa/Equatorial%20Guinea\n",
        "Eritrea"
       ]
      },
      {
       "output_type": "stream",
       "stream": "stdout",
       "text": [
        "\n",
        "http://hospitals.webometrics.info/en/Africa/Eritrea\n",
        "Ethiopia"
       ]
      },
      {
       "output_type": "stream",
       "stream": "stdout",
       "text": [
        "\n",
        "http://hospitals.webometrics.info/en/Africa/Ethiopia\n",
        "Gabon"
       ]
      },
      {
       "output_type": "stream",
       "stream": "stdout",
       "text": [
        "\n",
        "http://hospitals.webometrics.info/en/Africa/Gabon\n",
        "Ghana"
       ]
      },
      {
       "output_type": "stream",
       "stream": "stdout",
       "text": [
        "\n",
        "http://hospitals.webometrics.info/en/Africa/Ghana\n",
        "Guinea"
       ]
      },
      {
       "output_type": "stream",
       "stream": "stdout",
       "text": [
        "\n",
        "http://hospitals.webometrics.info/en/Africa/Guinea\n",
        "Guinea-Bissau "
       ]
      },
      {
       "output_type": "stream",
       "stream": "stdout",
       "text": [
        "\n",
        "http://hospitals.webometrics.info/en/Africa/Guinea-Bissau%20\n",
        "Kenya "
       ]
      },
      {
       "output_type": "stream",
       "stream": "stdout",
       "text": [
        "\n",
        "http://hospitals.webometrics.info/en/Africa/Kenya%20\n",
        "Lesotho "
       ]
      },
      {
       "output_type": "stream",
       "stream": "stdout",
       "text": [
        "\n",
        "http://hospitals.webometrics.info/en/Africa/Lesotho%20\n",
        "Liberia"
       ]
      },
      {
       "output_type": "stream",
       "stream": "stdout",
       "text": [
        "\n",
        "http://hospitals.webometrics.info/en/Africa/Liberia\n",
        "Libyan Arab Jamahiriya"
       ]
      },
      {
       "output_type": "stream",
       "stream": "stdout",
       "text": [
        "\n",
        "http://hospitals.webometrics.info/en/Africa/Libyan%20Arab%20Jamahiriya\n",
        "Madagascar"
       ]
      },
      {
       "output_type": "stream",
       "stream": "stdout",
       "text": [
        "\n",
        "http://hospitals.webometrics.info/en/Africa/Madagascar\n",
        "Malawi"
       ]
      },
      {
       "output_type": "stream",
       "stream": "stdout",
       "text": [
        "\n",
        "http://hospitals.webometrics.info/en/Africa/Malawi\n",
        "Mali"
       ]
      },
      {
       "output_type": "stream",
       "stream": "stdout",
       "text": [
        "\n",
        "http://hospitals.webometrics.info/en/Africa/Mali\n",
        "Mauritania"
       ]
      },
      {
       "output_type": "stream",
       "stream": "stdout",
       "text": [
        "\n",
        "http://hospitals.webometrics.info/en/Africa/Mauritania\n",
        "Mauritius"
       ]
      },
      {
       "output_type": "stream",
       "stream": "stdout",
       "text": [
        "\n",
        "http://hospitals.webometrics.info/en/Africa/Mauritius\n",
        "Morocco"
       ]
      },
      {
       "output_type": "stream",
       "stream": "stdout",
       "text": [
        "\n",
        "http://hospitals.webometrics.info/en/Africa/Morocco\n",
        "Mozambique"
       ]
      },
      {
       "output_type": "stream",
       "stream": "stdout",
       "text": [
        "\n",
        "http://hospitals.webometrics.info/en/Africa/Mozambique\n",
        "Namibia"
       ]
      },
      {
       "output_type": "stream",
       "stream": "stdout",
       "text": [
        "\n",
        "http://hospitals.webometrics.info/en/Africa/Namibia\n",
        "Niger"
       ]
      },
      {
       "output_type": "stream",
       "stream": "stdout",
       "text": [
        "\n",
        "http://hospitals.webometrics.info/en/Africa/Niger\n",
        "Nigeria"
       ]
      },
      {
       "output_type": "stream",
       "stream": "stdout",
       "text": [
        "\n",
        "http://hospitals.webometrics.info/en/Africa/Nigeria\n",
        "Rwanda"
       ]
      },
      {
       "output_type": "stream",
       "stream": "stdout",
       "text": [
        "\n",
        "http://hospitals.webometrics.info/en/Africa/Rwanda\n",
        "Sao Tome and Principe "
       ]
      },
      {
       "output_type": "stream",
       "stream": "stdout",
       "text": [
        "\n",
        "http://hospitals.webometrics.info/en/Africa/Sao%20Tome%20and%20Principe%20\n",
        "Senegal"
       ]
      },
      {
       "output_type": "stream",
       "stream": "stdout",
       "text": [
        "\n",
        "http://hospitals.webometrics.info/en/Africa/Senegal\n",
        "Seychelles"
       ]
      },
      {
       "output_type": "stream",
       "stream": "stdout",
       "text": [
        "\n",
        "http://hospitals.webometrics.info/en/Africa/Seychelles\n",
        "Sierra Leone"
       ]
      },
      {
       "output_type": "stream",
       "stream": "stdout",
       "text": [
        "\n",
        "http://hospitals.webometrics.info/en/Africa/Sierra%20Leone\n",
        "Somalia "
       ]
      },
      {
       "output_type": "stream",
       "stream": "stdout",
       "text": [
        "\n",
        "http://hospitals.webometrics.info/en/Africa/Somalia%20\n",
        "South Africa"
       ]
      },
      {
       "output_type": "stream",
       "stream": "stdout",
       "text": [
        "\n",
        "http://hospitals.webometrics.info/en/Africa/South%20Africa\n",
        "Sudan"
       ]
      },
      {
       "output_type": "stream",
       "stream": "stdout",
       "text": [
        "\n",
        "http://hospitals.webometrics.info/en/Africa/Sudan\n",
        "Swaziland "
       ]
      },
      {
       "output_type": "stream",
       "stream": "stdout",
       "text": [
        "\n",
        "http://hospitals.webometrics.info/en/Africa/Swaziland%20\n",
        "Tanzania, United Republic of"
       ]
      },
      {
       "output_type": "stream",
       "stream": "stdout",
       "text": [
        "\n",
        "http://hospitals.webometrics.info/en/Africa/Tanzania%2C%20United%20Republic%20of\n",
        "The Republic of Gambia"
       ]
      },
      {
       "output_type": "stream",
       "stream": "stdout",
       "text": [
        "\n",
        "http://hospitals.webometrics.info/en/Africa/The%20Republic%20of%20Gambia\n",
        "Togo "
       ]
      },
      {
       "output_type": "stream",
       "stream": "stdout",
       "text": [
        "\n",
        "http://hospitals.webometrics.info/en/Africa/Togo%20\n",
        "Tunisia "
       ]
      },
      {
       "output_type": "stream",
       "stream": "stdout",
       "text": [
        "\n",
        "http://hospitals.webometrics.info/en/Africa/Tunisia%20\n",
        "Uganda"
       ]
      },
      {
       "output_type": "stream",
       "stream": "stdout",
       "text": [
        "\n",
        "http://hospitals.webometrics.info/en/Africa/Uganda\n",
        "Zambia"
       ]
      },
      {
       "output_type": "stream",
       "stream": "stdout",
       "text": [
        "\n",
        "http://hospitals.webometrics.info/en/Africa/Zambia\n",
        "Zimbabwe"
       ]
      },
      {
       "output_type": "stream",
       "stream": "stdout",
       "text": [
        "\n",
        "http://hospitals.webometrics.info/en/Africa/Zimbabwe\n",
        "Algeria"
       ]
      },
      {
       "output_type": "stream",
       "stream": "stdout",
       "text": [
        "\n",
        "http://hospitals.webometrics.info/en/aw/Algeria\n",
        "Bahrain "
       ]
      },
      {
       "output_type": "stream",
       "stream": "stdout",
       "text": [
        "\n",
        "http://hospitals.webometrics.info/en/aw/Bahrain%20\n",
        "Comoros "
       ]
      },
      {
       "output_type": "stream",
       "stream": "stdout",
       "text": [
        "\n",
        "http://hospitals.webometrics.info/en/aw/Comoros%20\n",
        "Djibouti "
       ]
      },
      {
       "output_type": "stream",
       "stream": "stdout",
       "text": [
        "\n",
        "http://hospitals.webometrics.info/en/aw/Djibouti%20\n",
        "Egypt"
       ]
      },
      {
       "output_type": "stream",
       "stream": "stdout",
       "text": [
        "\n",
        "http://hospitals.webometrics.info/en/aw/Egypt\n",
        "Iraq"
       ]
      },
      {
       "output_type": "stream",
       "stream": "stdout",
       "text": [
        "\n",
        "http://hospitals.webometrics.info/en/aw/Iraq\n",
        "Jordan"
       ]
      },
      {
       "output_type": "stream",
       "stream": "stdout",
       "text": [
        "\n",
        "http://hospitals.webometrics.info/en/aw/Jordan\n",
        "Kuwait"
       ]
      },
      {
       "output_type": "stream",
       "stream": "stdout",
       "text": [
        "\n",
        "http://hospitals.webometrics.info/en/aw/Kuwait\n",
        "Lebanon "
       ]
      },
      {
       "output_type": "stream",
       "stream": "stdout",
       "text": [
        "\n",
        "http://hospitals.webometrics.info/en/aw/Lebanon%20\n",
        "Libyan Arab Jamahiriya"
       ]
      },
      {
       "output_type": "stream",
       "stream": "stdout",
       "text": [
        "\n",
        "http://hospitals.webometrics.info/en/aw/Libyan%20Arab%20Jamahiriya\n",
        "Mauritania"
       ]
      },
      {
       "output_type": "stream",
       "stream": "stdout",
       "text": [
        "\n",
        "http://hospitals.webometrics.info/en/aw/Mauritania\n",
        "Morocco"
       ]
      },
      {
       "output_type": "stream",
       "stream": "stdout",
       "text": [
        "\n",
        "http://hospitals.webometrics.info/en/aw/Morocco\n",
        "Oman "
       ]
      },
      {
       "output_type": "stream",
       "stream": "stdout",
       "text": [
        "\n",
        "http://hospitals.webometrics.info/en/aw/Oman%20\n",
        "Palestinian Territories"
       ]
      },
      {
       "output_type": "stream",
       "stream": "stdout",
       "text": [
        "\n",
        "http://hospitals.webometrics.info/en/aw/Palestinian%20Territories\n",
        "Qatar "
       ]
      },
      {
       "output_type": "stream",
       "stream": "stdout",
       "text": [
        "\n",
        "http://hospitals.webometrics.info/en/aw/Qatar%20\n",
        "Saudi Arabia "
       ]
      },
      {
       "output_type": "stream",
       "stream": "stdout",
       "text": [
        "\n",
        "http://hospitals.webometrics.info/en/aw/Saudi%20Arabia%20\n",
        "Somalia "
       ]
      },
      {
       "output_type": "stream",
       "stream": "stdout",
       "text": [
        "\n",
        "http://hospitals.webometrics.info/en/aw/Somalia%20\n",
        "Sudan"
       ]
      },
      {
       "output_type": "stream",
       "stream": "stdout",
       "text": [
        "\n",
        "http://hospitals.webometrics.info/en/aw/Sudan\n",
        "Syrian Arab Republic"
       ]
      },
      {
       "output_type": "stream",
       "stream": "stdout",
       "text": [
        "\n",
        "http://hospitals.webometrics.info/en/aw/Syrian%20Arab%20Republic\n",
        "Tunisia "
       ]
      },
      {
       "output_type": "stream",
       "stream": "stdout",
       "text": [
        "\n",
        "http://hospitals.webometrics.info/en/aw/Tunisia%20\n",
        "United Arab Emirates "
       ]
      },
      {
       "output_type": "stream",
       "stream": "stdout",
       "text": [
        "\n",
        "http://hospitals.webometrics.info/en/aw/United%20Arab%20Emirates%20\n"
       ]
      },
      {
       "ename": "ConnectionError",
       "evalue": "('Connection aborted.', BadStatusLine(\"''\",))",
       "output_type": "pyerr",
       "traceback": [
        "\u001b[0;31m---------------------------------------------------------------------------\u001b[0m\n\u001b[0;31mConnectionError\u001b[0m                           Traceback (most recent call last)",
        "\u001b[0;32m<ipython-input-159-eecfd7bf05e7>\u001b[0m in \u001b[0;36m<module>\u001b[0;34m()\u001b[0m\n\u001b[1;32m     49\u001b[0m             \u001b[0;32mprint\u001b[0m \u001b[0mcountry\u001b[0m\u001b[0;34m\u001b[0m\u001b[0m\n\u001b[1;32m     50\u001b[0m             \u001b[0;32mprint\u001b[0m \u001b[0mcountry_page\u001b[0m\u001b[0;34m\u001b[0m\u001b[0m\n\u001b[0;32m---> 51\u001b[0;31m             \u001b[0mcountry_links\u001b[0m\u001b[0;34m(\u001b[0m\u001b[0mcountry\u001b[0m\u001b[0;34m,\u001b[0m \u001b[0mcountry_page\u001b[0m\u001b[0;34m)\u001b[0m\u001b[0;34m\u001b[0m\u001b[0m\n\u001b[0m\u001b[1;32m     52\u001b[0m \u001b[0;34m\u001b[0m\u001b[0m\n\u001b[1;32m     53\u001b[0m \u001b[0;32mimport\u001b[0m \u001b[0mcsv\u001b[0m\u001b[0;34m\u001b[0m\u001b[0m\n",
        "\u001b[0;32m<ipython-input-159-eecfd7bf05e7>\u001b[0m in \u001b[0;36mcountry_links\u001b[0;34m(cname, cpage)\u001b[0m\n\u001b[1;32m     24\u001b[0m \u001b[0;34m\u001b[0m\u001b[0m\n\u001b[1;32m     25\u001b[0m \u001b[0;32mdef\u001b[0m \u001b[0mcountry_links\u001b[0m\u001b[0;34m(\u001b[0m\u001b[0mcname\u001b[0m\u001b[0;34m,\u001b[0m \u001b[0mcpage\u001b[0m\u001b[0;34m)\u001b[0m\u001b[0;34m:\u001b[0m\u001b[0;34m\u001b[0m\u001b[0m\n\u001b[0;32m---> 26\u001b[0;31m     \u001b[0mpage_table\u001b[0m\u001b[0;34m(\u001b[0m\u001b[0mcname\u001b[0m\u001b[0;34m,\u001b[0m \u001b[0mcpage\u001b[0m\u001b[0;34m)\u001b[0m\u001b[0;34m\u001b[0m\u001b[0m\n\u001b[0m\u001b[1;32m     27\u001b[0m     \u001b[0mcountry_page\u001b[0m \u001b[0;34m=\u001b[0m \u001b[0mrequests\u001b[0m\u001b[0;34m.\u001b[0m\u001b[0mget\u001b[0m\u001b[0;34m(\u001b[0m\u001b[0mcpage\u001b[0m\u001b[0;34m)\u001b[0m\u001b[0;34m\u001b[0m\u001b[0m\n\u001b[1;32m     28\u001b[0m     \u001b[0mspage\u001b[0m \u001b[0;34m=\u001b[0m \u001b[0mBeautifulSoup\u001b[0m\u001b[0;34m(\u001b[0m\u001b[0mcountry_page\u001b[0m\u001b[0;34m.\u001b[0m\u001b[0mcontent\u001b[0m\u001b[0;34m)\u001b[0m\u001b[0;34m\u001b[0m\u001b[0m\n",
        "\u001b[0;32m<ipython-input-159-eecfd7bf05e7>\u001b[0m in \u001b[0;36mpage_table\u001b[0;34m(name, page)\u001b[0m\n\u001b[1;32m     10\u001b[0m \u001b[0;34m\u001b[0m\u001b[0m\n\u001b[1;32m     11\u001b[0m \u001b[0;32mdef\u001b[0m \u001b[0mpage_table\u001b[0m\u001b[0;34m(\u001b[0m\u001b[0mname\u001b[0m\u001b[0;34m,\u001b[0m \u001b[0mpage\u001b[0m\u001b[0;34m)\u001b[0m\u001b[0;34m:\u001b[0m\u001b[0;34m\u001b[0m\u001b[0m\n\u001b[0;32m---> 12\u001b[0;31m     \u001b[0mname_table\u001b[0m \u001b[0;34m=\u001b[0m \u001b[0mrequests\u001b[0m\u001b[0;34m.\u001b[0m\u001b[0mget\u001b[0m\u001b[0;34m(\u001b[0m\u001b[0mpage\u001b[0m\u001b[0;34m)\u001b[0m\u001b[0;34m\u001b[0m\u001b[0m\n\u001b[0m\u001b[1;32m     13\u001b[0m     \u001b[0msoup_table\u001b[0m \u001b[0;34m=\u001b[0m \u001b[0mBeautifulSoup\u001b[0m\u001b[0;34m(\u001b[0m\u001b[0mname_table\u001b[0m\u001b[0;34m.\u001b[0m\u001b[0mcontent\u001b[0m\u001b[0;34m)\u001b[0m\u001b[0;34m\u001b[0m\u001b[0m\n\u001b[1;32m     14\u001b[0m     \u001b[0mcountry_table\u001b[0m \u001b[0;34m=\u001b[0m \u001b[0msoup_table\u001b[0m\u001b[0;34m.\u001b[0m\u001b[0mfind_all\u001b[0m\u001b[0;34m(\u001b[0m\u001b[0;34m\"table\"\u001b[0m\u001b[0;34m,\u001b[0m \u001b[0;34m{\u001b[0m\u001b[0;34m\"class\"\u001b[0m\u001b[0;34m:\u001b[0m \u001b[0;34m\"sticky-enabled\"\u001b[0m\u001b[0;34m}\u001b[0m\u001b[0;34m)\u001b[0m\u001b[0;34m[\u001b[0m\u001b[0;36m0\u001b[0m\u001b[0;34m]\u001b[0m\u001b[0;34m.\u001b[0m\u001b[0mfind_all\u001b[0m\u001b[0;34m(\u001b[0m\u001b[0;34m\"tbody\"\u001b[0m\u001b[0;34m)\u001b[0m\u001b[0;34m\u001b[0m\u001b[0m\n",
        "\u001b[0;32m/Applications/anaconda/lib/python2.7/site-packages/requests/api.pyc\u001b[0m in \u001b[0;36mget\u001b[0;34m(url, **kwargs)\u001b[0m\n\u001b[1;32m     57\u001b[0m \u001b[0;34m\u001b[0m\u001b[0m\n\u001b[1;32m     58\u001b[0m     \u001b[0mkwargs\u001b[0m\u001b[0;34m.\u001b[0m\u001b[0msetdefault\u001b[0m\u001b[0;34m(\u001b[0m\u001b[0;34m'allow_redirects'\u001b[0m\u001b[0;34m,\u001b[0m \u001b[0mTrue\u001b[0m\u001b[0;34m)\u001b[0m\u001b[0;34m\u001b[0m\u001b[0m\n\u001b[0;32m---> 59\u001b[0;31m     \u001b[0;32mreturn\u001b[0m \u001b[0mrequest\u001b[0m\u001b[0;34m(\u001b[0m\u001b[0;34m'get'\u001b[0m\u001b[0;34m,\u001b[0m \u001b[0murl\u001b[0m\u001b[0;34m,\u001b[0m \u001b[0;34m**\u001b[0m\u001b[0mkwargs\u001b[0m\u001b[0;34m)\u001b[0m\u001b[0;34m\u001b[0m\u001b[0m\n\u001b[0m\u001b[1;32m     60\u001b[0m \u001b[0;34m\u001b[0m\u001b[0m\n\u001b[1;32m     61\u001b[0m \u001b[0;34m\u001b[0m\u001b[0m\n",
        "\u001b[0;32m/Applications/anaconda/lib/python2.7/site-packages/requests/api.pyc\u001b[0m in \u001b[0;36mrequest\u001b[0;34m(method, url, **kwargs)\u001b[0m\n\u001b[1;32m     46\u001b[0m \u001b[0;34m\u001b[0m\u001b[0m\n\u001b[1;32m     47\u001b[0m     \u001b[0msession\u001b[0m \u001b[0;34m=\u001b[0m \u001b[0msessions\u001b[0m\u001b[0;34m.\u001b[0m\u001b[0mSession\u001b[0m\u001b[0;34m(\u001b[0m\u001b[0;34m)\u001b[0m\u001b[0;34m\u001b[0m\u001b[0m\n\u001b[0;32m---> 48\u001b[0;31m     \u001b[0;32mreturn\u001b[0m \u001b[0msession\u001b[0m\u001b[0;34m.\u001b[0m\u001b[0mrequest\u001b[0m\u001b[0;34m(\u001b[0m\u001b[0mmethod\u001b[0m\u001b[0;34m=\u001b[0m\u001b[0mmethod\u001b[0m\u001b[0;34m,\u001b[0m \u001b[0murl\u001b[0m\u001b[0;34m=\u001b[0m\u001b[0murl\u001b[0m\u001b[0;34m,\u001b[0m \u001b[0;34m**\u001b[0m\u001b[0mkwargs\u001b[0m\u001b[0;34m)\u001b[0m\u001b[0;34m\u001b[0m\u001b[0m\n\u001b[0m\u001b[1;32m     49\u001b[0m \u001b[0;34m\u001b[0m\u001b[0m\n\u001b[1;32m     50\u001b[0m \u001b[0;34m\u001b[0m\u001b[0m\n",
        "\u001b[0;32m/Applications/anaconda/lib/python2.7/site-packages/requests/sessions.pyc\u001b[0m in \u001b[0;36mrequest\u001b[0;34m(self, method, url, params, data, headers, cookies, files, auth, timeout, allow_redirects, proxies, hooks, stream, verify, cert)\u001b[0m\n\u001b[1;32m    449\u001b[0m         }\n\u001b[1;32m    450\u001b[0m         \u001b[0msend_kwargs\u001b[0m\u001b[0;34m.\u001b[0m\u001b[0mupdate\u001b[0m\u001b[0;34m(\u001b[0m\u001b[0msettings\u001b[0m\u001b[0;34m)\u001b[0m\u001b[0;34m\u001b[0m\u001b[0m\n\u001b[0;32m--> 451\u001b[0;31m         \u001b[0mresp\u001b[0m \u001b[0;34m=\u001b[0m \u001b[0mself\u001b[0m\u001b[0;34m.\u001b[0m\u001b[0msend\u001b[0m\u001b[0;34m(\u001b[0m\u001b[0mprep\u001b[0m\u001b[0;34m,\u001b[0m \u001b[0;34m**\u001b[0m\u001b[0msend_kwargs\u001b[0m\u001b[0;34m)\u001b[0m\u001b[0;34m\u001b[0m\u001b[0m\n\u001b[0m\u001b[1;32m    452\u001b[0m \u001b[0;34m\u001b[0m\u001b[0m\n\u001b[1;32m    453\u001b[0m         \u001b[0;32mreturn\u001b[0m \u001b[0mresp\u001b[0m\u001b[0;34m\u001b[0m\u001b[0m\n",
        "\u001b[0;32m/Applications/anaconda/lib/python2.7/site-packages/requests/sessions.pyc\u001b[0m in \u001b[0;36msend\u001b[0;34m(self, request, **kwargs)\u001b[0m\n\u001b[1;32m    555\u001b[0m \u001b[0;34m\u001b[0m\u001b[0m\n\u001b[1;32m    556\u001b[0m         \u001b[0;31m# Send the request\u001b[0m\u001b[0;34m\u001b[0m\u001b[0;34m\u001b[0m\u001b[0m\n\u001b[0;32m--> 557\u001b[0;31m         \u001b[0mr\u001b[0m \u001b[0;34m=\u001b[0m \u001b[0madapter\u001b[0m\u001b[0;34m.\u001b[0m\u001b[0msend\u001b[0m\u001b[0;34m(\u001b[0m\u001b[0mrequest\u001b[0m\u001b[0;34m,\u001b[0m \u001b[0;34m**\u001b[0m\u001b[0mkwargs\u001b[0m\u001b[0;34m)\u001b[0m\u001b[0;34m\u001b[0m\u001b[0m\n\u001b[0m\u001b[1;32m    558\u001b[0m \u001b[0;34m\u001b[0m\u001b[0m\n\u001b[1;32m    559\u001b[0m         \u001b[0;31m# Total elapsed time of the request (approximately)\u001b[0m\u001b[0;34m\u001b[0m\u001b[0;34m\u001b[0m\u001b[0m\n",
        "\u001b[0;32m/Applications/anaconda/lib/python2.7/site-packages/requests/adapters.pyc\u001b[0m in \u001b[0;36msend\u001b[0;34m(self, request, stream, timeout, verify, cert, proxies)\u001b[0m\n\u001b[1;32m    405\u001b[0m \u001b[0;34m\u001b[0m\u001b[0m\n\u001b[1;32m    406\u001b[0m         \u001b[0;32mexcept\u001b[0m \u001b[0;34m(\u001b[0m\u001b[0mProtocolError\u001b[0m\u001b[0;34m,\u001b[0m \u001b[0msocket\u001b[0m\u001b[0;34m.\u001b[0m\u001b[0merror\u001b[0m\u001b[0;34m)\u001b[0m \u001b[0;32mas\u001b[0m \u001b[0merr\u001b[0m\u001b[0;34m:\u001b[0m\u001b[0;34m\u001b[0m\u001b[0m\n\u001b[0;32m--> 407\u001b[0;31m             \u001b[0;32mraise\u001b[0m \u001b[0mConnectionError\u001b[0m\u001b[0;34m(\u001b[0m\u001b[0merr\u001b[0m\u001b[0;34m,\u001b[0m \u001b[0mrequest\u001b[0m\u001b[0;34m=\u001b[0m\u001b[0mrequest\u001b[0m\u001b[0;34m)\u001b[0m\u001b[0;34m\u001b[0m\u001b[0m\n\u001b[0m\u001b[1;32m    408\u001b[0m \u001b[0;34m\u001b[0m\u001b[0m\n\u001b[1;32m    409\u001b[0m         \u001b[0;32mexcept\u001b[0m \u001b[0mMaxRetryError\u001b[0m \u001b[0;32mas\u001b[0m \u001b[0me\u001b[0m\u001b[0;34m:\u001b[0m\u001b[0;34m\u001b[0m\u001b[0m\n",
        "\u001b[0;31mConnectionError\u001b[0m: ('Connection aborted.', BadStatusLine(\"''\",))"
       ]
      }
     ],
     "prompt_number": 159
    }
   ],
   "metadata": {}
  }
 ]
}